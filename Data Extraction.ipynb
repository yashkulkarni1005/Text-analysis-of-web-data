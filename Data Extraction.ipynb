{
 "cells": [
  {
   "cell_type": "code",
   "execution_count": 32,
   "id": "25956ff1",
   "metadata": {},
   "outputs": [],
   "source": [
    "import pandas as pd\n",
    "import requests\n",
    "from bs4 import BeautifulSoup\n",
    "\n",
    "url_data=pd.read_excel(\"Input.xlsx\")\n",
    "\n",
    "for i,j in zip(url_data[\"URL\"],url_data[\"URL_ID\"]):\n",
    "    text_file=open(\"input_text_data/\"+str(j)+\".txt\",\"w\", encoding=\"utf-8\")\n",
    "   \n",
    "    # making requests instance\n",
    "    reqs = requests.get(i)\n",
    "\n",
    "    # using the BeautifulSoup module\n",
    "    soup = BeautifulSoup(reqs.text, 'html.parser')\n",
    "\n",
    "    # Writing the title to file\n",
    "    for title in soup.find_all('title'):\n",
    "        text_file.write(title.get_text())\n",
    "        text_file.write(\"\\n\")\n",
    "\n",
    "    # Writing the content to file\n",
    "    for content in soup.find_all('p'):\n",
    "        if content.attrs:\n",
    "            continue\n",
    "        text_file.write(content.get_text())\n",
    "        text_file.write(\"\\n\")\n",
    "    text_file.close()\n",
    "\n",
    "    "
   ]
  }
 ],
 "metadata": {
  "kernelspec": {
   "display_name": "Python 3 (ipykernel)",
   "language": "python",
   "name": "python3"
  },
  "language_info": {
   "codemirror_mode": {
    "name": "ipython",
    "version": 3
   },
   "file_extension": ".py",
   "mimetype": "text/x-python",
   "name": "python",
   "nbconvert_exporter": "python",
   "pygments_lexer": "ipython3",
   "version": "3.9.13"
  }
 },
 "nbformat": 4,
 "nbformat_minor": 5
}
